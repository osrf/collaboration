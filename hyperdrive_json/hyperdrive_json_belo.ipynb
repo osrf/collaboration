{
 "cells": [
  {
   "cell_type": "code",
   "execution_count": null,
   "metadata": {
    "collapsed": true
   },
   "outputs": [],
   "source": [
    "import json\n",
    "import matplotlib.pyplot as plt\n",
    "import numpy as np\n",
    "from pprint import pprint\n",
    "\n",
    "file = \"C:\\\\Users\\\\david.belo\\\\Documents\\\\code\\\\hyperdrive.priuscup.simulator\\\\TRI-Hyperdrive-Sonoma-asof1045\\\\car1\\\\1481558138.951864_edit.json\"\n",
    "\n",
    "with open(file) as data_file:    \n",
    "    data = json.load(data_file)\n",
    "\n",
    "# pprint(data)\n",
    "\n",
    "print(type(data))\n",
    "print(type(data[0]))\n",
    "\n",
    "speed = np.zeros(len(data))\n",
    "for i, sample in enumerate(data):\n",
    "    speed[i] = sample[13]\n",
    "\n",
    "\n",
    "plt.plot(speed)\n",
    "plt.show()\n"
   ]
  }
 ],
 "metadata": {
  "kernelspec": {
   "display_name": "Python [py27]",
   "language": "python",
   "name": "Python [py27]"
  }
 },
 "nbformat": 4,
 "nbformat_minor": 0
}
