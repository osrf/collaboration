{
 "metadata": {
  "name": "",
  "signature": "sha256:0d99bab4f5de75a370e23272deeaa65b75d099ab8d1a96221c79333980014fe7"
 },
 "nbformat": 3,
 "nbformat_minor": 0,
 "worksheets": [
  {
   "cells": [
    {
     "cell_type": "code",
     "collapsed": false,
     "input": [
      "import pprint\n",
      "pp = pprint.PrettyPrinter(indent=4)\n",
      "import numpy as np\n",
      "from lists_dictionary import makeDictOfArraysFromLists"
     ],
     "language": "python",
     "metadata": {},
     "outputs": []
    },
    {
     "cell_type": "code",
     "collapsed": false,
     "input": [
      "import json\n",
      "def json_fix(filename):\n",
      "    json_raw = open(filename, 'r').read()\n",
      "    json_data = ''\n",
      "    if json_raw[1] != '[' and json_raw[-2] == ',':\n",
      "        json_data = '[' + json_raw[0:-2] + ']'\n",
      "    return json.loads(json_data)\n",
      "car2_run0 = json_fix('1481522004.381632.json')\n",
      "names = {\n",
      "'time_ms': 1,\n",
      "'accel_pedal': 2,\n",
      "'brake_pedal': 3,\n",
      "'at_shift': 5,\n",
      "'steer_wheel': 8,\n",
      "'engine_rpm': 12,\n",
      "'speed_kph': 13,\n",
      "'accel_long': 14,\n",
      "'yaw_rate': 16,\n",
      "'odometer': 17,\n",
      "'fuel_mL': 18,\n",
      "'lat_deg': 24,\n",
      "'lon_deg': 26,\n",
      "'altitude': 30,\n",
      "'ev_mode': 43,\n",
      "'battery_soc': 44\n",
      "}\n",
      "car2_run0_dict = makeDictOfArraysFromLists(car2_run0, names)\n",
      "print(car2_run0_dict.keys())"
     ],
     "language": "python",
     "metadata": {},
     "outputs": []
    },
    {
     "cell_type": "code",
     "collapsed": false,
     "input": [
      "#print(car2_run0_dict['brake_pedal'])\n",
      "def int_OFF_ON(str):\n",
      "    if str == 'OFF':\n",
      "        return 0\n",
      "    elif str == 'ON':\n",
      "        return 1\n",
      "    return -1\n",
      "print(np.array([int_OFF_ON(str) for str in car2_run0_dict['brake_pedal']]))\n",
      "print(np.array([int_OFF_ON(str) for str in car2_run0_dict['ev_mode']]))"
     ],
     "language": "python",
     "metadata": {},
     "outputs": []
    },
    {
     "cell_type": "code",
     "collapsed": false,
     "input": [
      "def int_PRNDB(str):\n",
      "    if str == 'P':\n",
      "        return 0\n",
      "    elif str == 'R':\n",
      "        return 1\n",
      "    elif str == 'N':\n",
      "        return 2\n",
      "    elif str == 'D':\n",
      "        return 3\n",
      "    elif str == 'B':\n",
      "        return 4\n",
      "    return -1\n",
      "print(np.array([int_PRNDB(str) for str in car2_run0_dict['at_shift']]))\n"
     ],
     "language": "python",
     "metadata": {},
     "outputs": []
    },
    {
     "cell_type": "code",
     "collapsed": false,
     "input": [],
     "language": "python",
     "metadata": {},
     "outputs": []
    }
   ],
   "metadata": {}
  }
 ]
}