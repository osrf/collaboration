{
 "metadata": {
  "name": "",
  "signature": "sha256:0d99bab4f5de75a370e23272deeaa65b75d099ab8d1a96221c79333980014fe7"
 },
 "nbformat": 3,
 "nbformat_minor": 0,
 "worksheets": [
  {
   "cells": [
    {
     "cell_type": "code",
     "collapsed": false,
     "input": [
      "import pprint\n",
      "pp = pprint.PrettyPrinter(indent=4)\n",
      "import numpy as np\n",
      "import matplotlib as mpl\n",
      "import matplotlib.pyplot as plt\n",
      "mpl.rcParams.update({'font.size': 16})\n",
      "import time\n",
      "from lists_dictionary import makeDictOfArraysFromLists"
     ],
     "language": "python",
     "metadata": {},
     "outputs": []
    },
    {
     "cell_type": "code",
     "collapsed": false,
     "input": [
      "import json\n",
      "def json_fix(filename):\n",
      "    json_raw = open(filename, 'r').read()\n",
      "    json_data = ''\n",
      "    if json_raw[1] != '[' and json_raw[-2] == ',':\n",
      "        json_data = '[' + json_raw[0:-2] + ']'\n",
      "    return json.loads(json_data)\n",
      "def json_open(filename):\n",
      "    return json.loads(open(filename, 'r').read())\n",
      "\n",
      "car2_run0 = json_open('Onramp-TestDayData/processed/car1/1481662029.073006.json')\n",
      "names = {\n",
      "'time_ms': 0,\n",
      "'accel_pedal': 1,\n",
      "'brake_pedal': 2,\n",
      "'at_shift': 3,\n",
      "'steer_wheel': 4,\n",
      "'engine_rpm': 5,\n",
      "'speed_kph': 6,\n",
      "'accel_long': 7,\n",
      "'accel_lat': 8,\n",
      "'yaw_rate': 9,\n",
      "'fuel_mL': 10,\n",
      "'odometer': 11,\n",
      "'lat_deg': 12,\n",
      "'lon_deg': 13,\n",
      "'altitude': 14,\n",
      "'ev_mode': 15,\n",
      "'battery_soc': 16\n",
      "}\n",
      "car2_run0_dict = makeDictOfArraysFromLists(car2_run0, names)\n",
      "print(car2_run0_dict.keys())"
     ],
     "language": "python",
     "metadata": {},
     "outputs": []
    },
    {
     "cell_type": "code",
     "collapsed": false,
     "input": [
      "print(car2_run0_dict['brake_pedal'])"
     ],
     "language": "python",
     "metadata": {},
     "outputs": []
    },
    {
     "cell_type": "code",
     "collapsed": false,
     "input": [
      "def int_PRNDB(str):\n",
      "    if str == 'P':\n",
      "        return 0\n",
      "    elif str == 'R':\n",
      "        return 1\n",
      "    elif str == 'N':\n",
      "        return 2\n",
      "    elif str == 'D':\n",
      "        return 3\n",
      "    elif str == 'B':\n",
      "        return 4\n",
      "    return -1\n",
      "print(np.array([int_PRNDB(str) for str in car2_run0_dict['at_shift']]))\n"
     ],
     "language": "python",
     "metadata": {},
     "outputs": []
    },
    {
     "cell_type": "code",
     "collapsed": false,
     "input": [
      "def makePlots(carDict):\n",
      "    t0 = carDict['time_ms'][0] / 1e3\n",
      "    tN = carDict['time_ms'][-1] / 1e3\n",
      "    timeString = time.strftime(\"%a, %d %b %Y %H:%M:%S\", time.localtime(t0)) + '-' + time.strftime(\"%H:%M:%S\", time.localtime(tN))\n",
      "    plt.gcf()\n",
      "    plt.plot(carDict['time_ms']/1e3 - t0, carDict['speed_kph'])\n",
      "    plt.xlabel('Time (s)')\n",
      "    plt.ylabel('Speed (km/hr)')\n",
      "    plt.title(timeString)\n",
      "    plt.show()\n"
     ],
     "language": "python",
     "metadata": {},
     "outputs": []
    },
    {
     "cell_type": "code",
     "collapsed": false,
     "input": [
      "makePlots(car2_run0_dict)"
     ],
     "language": "python",
     "metadata": {},
     "outputs": []
    },
    {
     "cell_type": "code",
     "collapsed": false,
     "input": [
      "t0 = time.localtime(car2_run0_dict['time_ms'][0] / 1e3)\n",
      "print(time.strftime(\"%a, %d %b %Y %H:%M:%S +0000\", t0))"
     ],
     "language": "python",
     "metadata": {},
     "outputs": []
    },
    {
     "cell_type": "code",
     "collapsed": false,
     "input": [
      "car2_run0_dict['time_ms'][0]"
     ],
     "language": "python",
     "metadata": {},
     "outputs": []
    },
    {
     "cell_type": "code",
     "collapsed": false,
     "input": [
      "1481662029"
     ],
     "language": "python",
     "metadata": {},
     "outputs": []
    },
    {
     "cell_type": "code",
     "collapsed": false,
     "input": [
      "car2_run0_dict['time_ms'][-1]"
     ],
     "language": "python",
     "metadata": {},
     "outputs": []
    },
    {
     "cell_type": "code",
     "collapsed": false,
     "input": [],
     "language": "python",
     "metadata": {},
     "outputs": []
    }
   ],
   "metadata": {}
  }
 ]
}