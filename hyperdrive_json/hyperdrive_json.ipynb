{
 "metadata": {
  "name": "",
  "signature": "sha256:7b9ba26a11e45c2199fa470220229e57416263e68ddf70420a48ee2b78051d28"
 },
 "nbformat": 3,
 "nbformat_minor": 0,
 "worksheets": [
  {
   "cells": [
    {
     "cell_type": "code",
     "collapsed": false,
     "input": [
      "import pprint\n",
      "pp = pprint.PrettyPrinter(indent=4)\n",
      "import numpy as np\n",
      "from lists_dictionary import makeDictOfArraysFromLists"
     ],
     "language": "python",
     "metadata": {},
     "outputs": []
    },
    {
     "cell_type": "code",
     "collapsed": false,
     "input": [
      "import json\n",
      "def json_fix(filename):\n",
      "    json_raw = open(filename, 'r').read()\n",
      "    json_data = ''\n",
      "    if json_raw[1] != '[' and json_raw[-2] == ',':\n",
      "        json_data = '[' + json_raw[0:-2] + ']'\n",
      "    return json.loads(json_data)\n",
      "car2_run0 = json_fix('1481522004.381632.json')\n",
      "names = {\n",
      "'time_ms': 1,\n",
      "'accel_pedal': 2,\n",
      "'brake_pedal': 3,\n",
      "'at_shift': 5,\n",
      "'steer_wheel': 8,\n",
      "'engine_rpm': 12,\n",
      "'speed_kph': 13,\n",
      "'accel_long': 14,\n",
      "'yaw_rate': 16,\n",
      "'odometer': 17,\n",
      "'fuel_mL': 18,\n",
      "'lat_deg': 24,\n",
      "'lon_deg': 26,\n",
      "'altitude': 30,\n",
      "'ev_mode': 43,\n",
      "'battery_soc': 44\n",
      "}\n",
      "car2_run0_dict = makeDictOfArraysFromLists(car2_run0, names)\n",
      "print(car2_run0_dict)\n"
     ],
     "language": "python",
     "metadata": {},
     "outputs": []
    },
    {
     "cell_type": "code",
     "collapsed": false,
     "input": [],
     "language": "python",
     "metadata": {},
     "outputs": []
    }
   ],
   "metadata": {}
  }
 ]
}