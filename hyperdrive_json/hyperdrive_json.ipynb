{
 "metadata": {
  "name": "",
  "signature": "sha256:7c0b9fdc7a4c84e56b88a14def1e03e91ff38a6fc1180cf38ce1f3059ae13373"
 },
 "nbformat": 3,
 "nbformat_minor": 0,
 "worksheets": [
  {
   "cells": [
    {
     "cell_type": "code",
     "collapsed": false,
     "input": [
      "import pprint\n",
      "pp = pprint.PrettyPrinter(indent=4)"
     ],
     "language": "python",
     "metadata": {},
     "outputs": []
    },
    {
     "cell_type": "code",
     "collapsed": false,
     "input": [
      "import json\n",
      "def json_fix(filename):\n",
      "    json_raw = open(filename, 'r').read()\n",
      "    json_data = ''\n",
      "    if json_raw[1] != '[' and json_raw[-2] == ',':\n",
      "        json_data = '[' + json_raw[0:-2] + ']'\n",
      "    return json.loads(json_data)\n",
      "pp.pprint(json_fix('1481522004.381632.json'))"
     ],
     "language": "python",
     "metadata": {},
     "outputs": []
    },
    {
     "cell_type": "code",
     "collapsed": false,
     "input": [
      "print(json_data[-10:-1])"
     ],
     "language": "python",
     "metadata": {},
     "outputs": []
    },
    {
     "cell_type": "code",
     "collapsed": false,
     "input": [],
     "language": "python",
     "metadata": {},
     "outputs": []
    }
   ],
   "metadata": {}
  }
 ]
}