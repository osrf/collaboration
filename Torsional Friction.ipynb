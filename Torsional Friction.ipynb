{
 "metadata": {
  "name": "",
  "signature": "sha256:c8150dfbb6e98afcbe8e39b4d313d25d1265ef1270201de1e7cc562ae8d3110a"
 },
 "nbformat": 3,
 "nbformat_minor": 0,
 "worksheets": [
  {
   "cells": [
    {
     "cell_type": "heading",
     "level": 1,
     "metadata": {},
     "source": [
      "Torsional friction based on Hertzian contact"
     ]
    },
    {
     "cell_type": "markdown",
     "metadata": {},
     "source": [
      "This is an attempt to document some equations used to derive equations for torsional friction based on Hertzian contact. It is drawn largely from Popov's [Contact Mechanics and Friction (2010)](https://dx.doi.org/10.1007/978-3-642-10803-7)."
     ]
    },
    {
     "cell_type": "heading",
     "level": 2,
     "metadata": {},
     "source": [
      "Normal contact between rigid sphere and elastic half-space"
     ]
    },
    {
     "cell_type": "markdown",
     "metadata": {},
     "source": [
      "It is shown by Popov in Section 5.1(a) that a rigid sphere (radius $R$) in contact with an elastic half-space (elastic modulus $E$, Poisson ratio $\\nu$) with a circular contact patch of radius $a$ generates a pressure distribution\n",
      "\n",
      "$p(r) = p_0 \\sqrt{1 - (\\frac{r}{a})^2}$\n",
      "\n",
      "where $r$ is the distance from the center of the contact patch and $0 \\le r \\le a$.\n",
      "The total normal force $F_z$ is also computed as\n",
      "\n",
      "$F_z = \\frac{2}{3} p_0 \\pi a^2$\n",
      "\n",
      "In section 5.2, the parameters $p_0$ and $a$ are solved in terms of other parameters and the maximum penetration depth $d$\n",
      "\n",
      "$a^2 = Rd$\n",
      "\n",
      "$p_0 = \\frac{2}{\\pi} E^* \\sqrt{\\frac{d}{R}}$\n",
      "\n",
      "so the normal force can be expressed as\n",
      "\n",
      "$F_z = \\frac{4}{3} E^* R^{0.5} d^{1.5}$"
     ]
    },
    {
     "cell_type": "heading",
     "level": 2,
     "metadata": {},
     "source": [
      "Tangential contact between rigid sphere and elastic half-space"
     ]
    },
    {
     "cell_type": "markdown",
     "metadata": {},
     "source": [
      "In Section 8.2.4, the case of torsional tangential loading is presented for a rigid sphere (radius $R$) in contact with an elastic half-space (elastic modulus $E$, Poisson ratio $\\nu$) with a circular contact patch of radius $a$. The torsional loading at any point in the contact patch (specified in polar coordinates by radius $r$ and angle $\\phi$) consists of tangential forces directed perpendicular to the polar radius $r$ with stresses\n",
      "\n",
      "$\\sigma_{zx} = -\\tau(r) \\sin \\phi$\n",
      "\n",
      "$\\sigma_{zy} = \\tau(r) \\cos \\phi$"
     ]
    },
    {
     "cell_type": "markdown",
     "metadata": {},
     "source": [
      "The stresses at a given position are combined into the vector\n",
      "\n",
      "$\\boldsymbol{\\sigma}_z = (\\sigma_{zx},\\sigma_{zy},0)^T$\n",
      "\n",
      "and with the incremental area at a given point defined as\n",
      "\n",
      "$dA = r dr d\\phi$\n",
      "\n",
      "the incremental force at a given point is\n",
      "\n",
      "$d\\textbf{F}_z = \\boldsymbol{\\sigma}_z dA$."
     ]
    },
    {
     "cell_type": "markdown",
     "metadata": {},
     "source": [
      "The position vector\n",
      "\n",
      "$\\textbf{r} = (r \\cos \\phi,r \\sin \\phi,0)^T$\n",
      "\n",
      "is then used to compute the incremental moment\n",
      "with respect to the center of the contact patch\n",
      "\n",
      "$dM = \\textbf{r} \\times d\\textbf{F}_z$\n",
      "\n",
      "$dM = r^2 \\tau(r) dr d\\phi$\n",
      "\n",
      "$M = \\int dM = \\int_0^{2\\pi}\\int_0^{a} r^2 \\tau(r) dr d\\phi$\n",
      "\n",
      "$M = 2\\pi \\int_0^{a} r^2 \\tau(r) dr$"
     ]
    },
    {
     "cell_type": "markdown",
     "metadata": {},
     "source": [
      "Consider the case when \\tau(r) has a similar form to the\n",
      "pressure $p(r)$ from the previous section,\n",
      "but with an additional $\\frac{r}{a}$ term\n",
      "(possibly related to torsional elasticity, see Eq. (8.14) in Popov):\n",
      "\n",
      "$\\tau(r) = \\tau_0 \\frac{r}{a} \\sqrt{1 - (\\frac{r}{a})^2}$\n",
      "\n",
      "The moment is then simplified as:\n",
      "\n",
      "$M = 2\\pi \\tau_0 \\int_0^{a} r^2 \\frac{r}{a} \\sqrt{1 - (\\frac{r}{a})^2} dr$\n",
      "\n",
      "with $s = \\frac{r}{a}$ and $dr = a ds$,\n",
      "\n",
      "$M = 2\\pi \\tau_0 \\int_0^{1} (as)^2 s \\sqrt{1 - s^2} a ds$\n",
      "\n",
      "$M = 2 a^3 \\pi \\tau_0 \\int_0^{1} s^3 \\sqrt{1 - s^2} ds$\n",
      "\n"
     ]
    },
    {
     "cell_type": "markdown",
     "metadata": {},
     "source": [
      "$\\int s^3 \\sqrt{1 - s^2} ds = -\\frac{1}{15} (1-s^2)^{1.5} (3s^2 + 2)$"
     ]
    },
    {
     "cell_type": "markdown",
     "metadata": {},
     "source": [
      "$M = 2 a^3 \\pi \\tau_0 (-\\frac{1}{15} (1-s^2)^{1.5} (3s^2 + 2))|_0^1$\n",
      "\n",
      "$M = 2 a^3 \\pi \\tau_0 (\\frac{2}{15} )$\n",
      "\n",
      "$M = \\frac{4}{15} a^3 \\pi \\tau_0$"
     ]
    },
    {
     "cell_type": "markdown",
     "metadata": {},
     "source": [
      "Taking the ratio of $M / F_z$"
     ]
    },
    {
     "cell_type": "markdown",
     "metadata": {},
     "source": [
      "$M = \\frac{4}{15} a^3 \\pi \\tau_0$\n",
      "\n",
      "$F_z = \\frac{2}{3} p_0 \\pi a^2$"
     ]
    },
    {
     "cell_type": "markdown",
     "metadata": {},
     "source": [
      "$M / F_z = \\frac{2}{5} a \\frac{\\tau_0}{p_0}$\n",
      "\n",
      "and labelling the stress ratio $\\frac{\\tau_0}{p_0}$ as $\\mu$,\n",
      "\n",
      "$M / F_z = \\frac{2}{5} a \\mu$"
     ]
    },
    {
     "cell_type": "code",
     "collapsed": false,
     "input": [],
     "language": "python",
     "metadata": {},
     "outputs": []
    }
   ],
   "metadata": {}
  }
 ]
}