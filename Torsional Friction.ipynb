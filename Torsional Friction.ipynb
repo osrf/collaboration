{
 "metadata": {
  "name": ""
 },
 "nbformat": 3,
 "nbformat_minor": 0,
 "worksheets": [
  {
   "cells": [
    {
     "cell_type": "heading",
     "level": 1,
     "metadata": {},
     "source": [
      "Torsional friction based on Hertzian contact"
     ]
    },
    {
     "cell_type": "markdown",
     "metadata": {},
     "source": [
      "This is an attempt to document some equations used to derive equations for torsional friction based on Hertzian contact. It is drawn largely from Popov's [Contact Mechanics and Friction (2010)](https://dx.doi.org/10.1007/978-3-642-10803-7)."
     ]
    },
    {
     "cell_type": "heading",
     "level": 2,
     "metadata": {},
     "source": [
      "Normal contact between rigid sphere and elastic half-space"
     ]
    },
    {
     "cell_type": "markdown",
     "metadata": {},
     "source": [
      "It is shown by Popov in Section 5.1(a) that a rigid sphere (radius $R$) in contact with an elastic half-space (elastic modulus $E$, Poisson ratio $\\nu$) with a circular contact patch of radius $a$ generates a pressure distribution\n",
      "\n",
      "$p(r) = p_0 (1 - r^2 / a^2 )^{1/2}$\n",
      "\n",
      "where $r$ is the distance from the center of the contact patch and $0 \\le r \\le a$.\n",
      "The total normal force $F_z$ is also computed as\n",
      "\n",
      "$F_z = 2/3 p_0 \\pi a^2$\n",
      "\n",
      "In section 5.2, the parameters $p_0$ and $a$ are solved in terms of other parameters and the maximum penetration depth $d$\n",
      "\n",
      "$a^2 = Rd$\n",
      "\n",
      "$p_0 = \\frac{2}{\\pi} E^* (d/R)^{1/2}$\n",
      "\n",
      "so the normal force can be expressed as\n",
      "\n",
      "$F_z = \\frac{4}{3} E^* R^{0.5} d^{1.5}$"
     ]
    },
    {
     "cell_type": "heading",
     "level": 2,
     "metadata": {},
     "source": [
      "Tangential contact between rigid sphere and elastic half-space"
     ]
    },
    {
     "cell_type": "markdown",
     "metadata": {},
     "source": [
      "In Section 8.2.4, the case of torsional tangential loading is presented for a rigid sphere (radius $R$) in contact with an elastic half-space (elastic modulus $E$, Poisson ratio $\\nu$) with a circular contact patch of radius $a$. The torsional loading is expressed as tangential forces directed perpendicular to the polar radius $r$ with stresses\n",
      "\n",
      "$\\sigma_{zx} = -\\tau(r) \\sin \\phi$\n",
      "\n",
      "$\\sigma_{zy} = \\tau(r) \\cos \\phi$\n",
      "\n",
      "The incremental force $dF$ is a vector of the stresses multiplied by the incremental area $dA$"
     ]
    },
    {
     "cell_type": "code",
     "collapsed": false,
     "input": [],
     "language": "python",
     "metadata": {},
     "outputs": []
    }
   ],
   "metadata": {}
  }
 ]
}